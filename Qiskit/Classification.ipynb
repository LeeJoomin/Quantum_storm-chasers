{
 "cells": [
  {
   "cell_type": "code",
   "execution_count": 2,
   "source": [
    "import numpy as np\r\n",
    "import matplotlib.pyplot as plt\r\n",
    "\r\n",
    "import torch\r\n",
    "from torch.autograd import Function\r\n",
    "from torchvision import datasets, transforms\r\n",
    "import torch.optim as optim\r\n",
    "import torch.nn as nn\r\n",
    "import torch.nn.functional as F\r\n",
    "\r\n",
    "import qiskit\r\n",
    "from qiskit import transpile, assemble\r\n",
    "from qiskit.visualization import *\r\n"
   ],
   "outputs": [],
   "metadata": {}
  },
  {
   "cell_type": "code",
   "execution_count": 3,
   "source": [
    "class QuantumCircuit:\r\n",
    "    \"\"\" \r\n",
    "    This class provides a simple interface for interaction \r\n",
    "    with the quantum circuit \r\n",
    "    \"\"\"\r\n",
    "    \r\n",
    "    def __init__(self, n_qubits, backend, shots):\r\n",
    "        # --- Circuit definition ---\r\n",
    "        self._circuit = qiskit.QuantumCircuit(n_qubits)\r\n",
    "        \r\n",
    "        all_qubits = [i for i in range(n_qubits)]\r\n",
    "        self.theta = qiskit.circuit.Parameter('theta')\r\n",
    "        \r\n",
    "        self._circuit.h(all_qubits)\r\n",
    "        self._circuit.barrier()\r\n",
    "        self._circuit.ry(self.theta, all_qubits)\r\n",
    "        \r\n",
    "        self._circuit.measure_all()\r\n",
    "        # ---------------------------\r\n",
    "\r\n",
    "        self.backend = backend\r\n",
    "        self.shots = shots\r\n",
    "    \r\n",
    "    def run(self, thetas):\r\n",
    "        t_qc = transpile(self._circuit,\r\n",
    "                         self.backend)\r\n",
    "        qobj = assemble(t_qc,\r\n",
    "                        shots=self.shots,\r\n",
    "                        parameter_binds = [{self.theta: theta} for theta in thetas])\r\n",
    "        job = self.backend.run(qobj)\r\n",
    "        result = job.result().get_counts()\r\n",
    "        \r\n",
    "        counts = np.array(list(result.values()))\r\n",
    "        states = np.array(list(result.keys())).astype(float)\r\n",
    "        \r\n",
    "        # Compute probabilities for each state\r\n",
    "        probabilities = counts / self.shots\r\n",
    "        # Get state expectation\r\n",
    "        expectation = np.sum(states * probabilities)\r\n",
    "        \r\n",
    "        return np.array([expectation])"
   ],
   "outputs": [],
   "metadata": {}
  },
  {
   "cell_type": "code",
   "execution_count": 4,
   "source": [
    "class HybridFunction(Function):\r\n",
    "    \"\"\" Hybrid quantum - classical function definition \"\"\"\r\n",
    "    \r\n",
    "    @staticmethod\r\n",
    "    def forward(ctx, input, quantum_circuit, shift):\r\n",
    "        \"\"\" Forward pass computation \"\"\"\r\n",
    "        ctx.shift = shift\r\n",
    "        ctx.quantum_circuit = quantum_circuit\r\n",
    "\r\n",
    "        expectation_z = ctx.quantum_circuit.run(input[0].tolist())\r\n",
    "        result = torch.tensor([expectation_z])\r\n",
    "        ctx.save_for_backward(input, result)\r\n",
    "\r\n",
    "        return result\r\n",
    "        \r\n",
    "    @staticmethod\r\n",
    "    def backward(ctx, grad_output):\r\n",
    "        \"\"\" Backward pass computation \"\"\"\r\n",
    "        input, expectation_z = ctx.saved_tensors\r\n",
    "        input_list = np.array(input.tolist())\r\n",
    "        \r\n",
    "        shift_right = input_list + np.ones(input_list.shape) * ctx.shift\r\n",
    "        shift_left = input_list - np.ones(input_list.shape) * ctx.shift\r\n",
    "        \r\n",
    "        gradients = []\r\n",
    "        for i in range(len(input_list)):\r\n",
    "            expectation_right = ctx.quantum_circuit.run(shift_right[i])\r\n",
    "            expectation_left  = ctx.quantum_circuit.run(shift_left[i])\r\n",
    "            \r\n",
    "            gradient = torch.tensor([expectation_right]) - torch.tensor([expectation_left])\r\n",
    "            gradients.append(gradient)\r\n",
    "        gradients = np.array([gradients]).T\r\n",
    "        return torch.tensor([gradients]).float() * grad_output.float(), None, None\r\n",
    "\r\n",
    "class Hybrid(nn.Module):\r\n",
    "    \"\"\" Hybrid quantum - classical layer definition \"\"\"\r\n",
    "    \r\n",
    "    def __init__(self, backend, shots, shift):\r\n",
    "        super(Hybrid, self).__init__()\r\n",
    "        self.quantum_circuit = QuantumCircuit(1, backend, shots)\r\n",
    "        self.shift = shift\r\n",
    "        \r\n",
    "    def forward(self, input):\r\n",
    "        return HybridFunction.apply(input, self.quantum_circuit, self.shift)"
   ],
   "outputs": [],
   "metadata": {}
  },
  {
   "cell_type": "code",
   "execution_count": 5,
   "source": [
    "from PIL import Image\r\n",
    "\r\n",
    "def callingFunc(i):\r\n",
    "    x1 = Image.open(\r\n",
    "        r'..\\stormdata\\Storm Classification\\Storm\\storm'+str(i)+'.jpg').convert('L');\r\n",
    "    y1 = np.asarray(x1.getdata(), dtype=np.float64).reshape((x1.size[1], x1.size[0]));\r\n",
    "\r\n",
    "    y_dat1 = np.asarray(y1, dtype=np.uint8);\r\n",
    "    y_dat1_Im = transforms.ToTensor()(y_dat1).unsqueeze_(0);\r\n",
    "    \r\n",
    "    \r\n",
    "    return y_dat1_Im[0]\r\n",
    "\r\n",
    "def callingFuncN(i):\r\n",
    "    x1 = Image.open(\r\n",
    "        r'..\\stormdata\\Storm Classification\\No storm\\No_storm'+str(i)+'.jpg').convert('L');\r\n",
    "    y1 = np.asarray(x1.getdata(), dtype=np.float64).reshape((x1.size[1], x1.size[0]));\r\n",
    "\r\n",
    "    y_dat1 = np.asarray(y1, dtype=np.uint8);\r\n",
    "    y_dat1_Im = transforms.ToTensor()(y_dat1).unsqueeze_(0);\r\n",
    "    \r\n",
    "    \r\n",
    "    return y_dat1_Im[0]    "
   ],
   "outputs": [],
   "metadata": {}
  },
  {
   "cell_type": "code",
   "execution_count": 6,
   "source": [
    "input1 = torch.stack([callingFunc(i+1)[0] for i in range(63)])\r\n",
    "input2 = torch.stack([callingFuncN(i+1)[0] for i in range(25)])\r\n",
    "input_o = torch.cat([input1,input2])"
   ],
   "outputs": [],
   "metadata": {}
  },
  {
   "cell_type": "code",
   "execution_count": 7,
   "source": [
    "target1 = torch.Tensor([0]).repeat(63);\r\n",
    "target2 = torch.Tensor([1]).repeat(25);\r\n",
    "target_o = torch.cat([target1,target2]);"
   ],
   "outputs": [],
   "metadata": {}
  },
  {
   "cell_type": "code",
   "execution_count": 13,
   "source": [
    "\r\n",
    "# Leaving only labels 0 and 1 \r\n",
    "idx=torch.randperm(88)\r\n",
    "\r\n",
    "dataInput = input_o[idx]\r\n",
    "dataTarget = target_o[idx]\r\n",
    "\r\n",
    "\r\n",
    "train_data = []\r\n",
    "for i in range(len(dataInput)):\r\n",
    "   train_data.append([dataInput[i], dataTarget[i]])\r\n",
    "\r\n",
    "trainloader = torch.utils.data.DataLoader(train_data, shuffle=True)\r\n",
    "i1, l1 = next(iter(trainloader))\r\n",
    "print(i1.shape)"
   ],
   "outputs": [
    {
     "output_type": "stream",
     "name": "stdout",
     "text": [
      "torch.Size([1, 8, 8])\n"
     ]
    }
   ],
   "metadata": {}
  },
  {
   "cell_type": "code",
   "execution_count": null,
   "source": [],
   "outputs": [],
   "metadata": {}
  },
  {
   "cell_type": "code",
   "execution_count": 15,
   "source": [
    "n_samples_show = 10\r\n",
    "\r\n",
    "data_iter = iter(trainloader)\r\n",
    "fig, axes = plt.subplots(nrows=1, ncols=n_samples_show, figsize=(20, 3))\r\n",
    "\r\n",
    "while n_samples_show > 0:\r\n",
    "    images, targets = data_iter.__next__()\r\n",
    "\r\n",
    "    axes[n_samples_show - 1].imshow(images[0].numpy().squeeze(), cmap='gray')\r\n",
    "    axes[n_samples_show - 1].set_xticks([])\r\n",
    "    axes[n_samples_show - 1].set_yticks([])\r\n",
    "    axes[n_samples_show - 1].set_title(\"Labeled: {}\".format(targets.item()))\r\n",
    "    \r\n",
    "    n_samples_show -= 1"
   ],
   "outputs": [
    {
     "output_type": "display_data",
     "data": {
      "text/plain": [
       "<Figure size 1440x216 with 10 Axes>"
      ],
      "image/png": "[encoded data removed]"
     },
     "metadata": {}
    }
   ],
   "metadata": {}
  },
  {
   "cell_type": "code",
   "execution_count": 16,
   "source": [
    "class Net(nn.Module):\r\n",
    "    def __init__(self):\r\n",
    "        super(Net, self).__init__()\r\n",
    "\r\n",
    "        self.fc1 = nn.Linear(64, 5)\r\n",
    "        self.fc2 = nn.Linear(5, 1)\r\n",
    "        self.hybrid = Hybrid(qiskit.Aer.get_backend('aer_simulator'), 100, np.pi / 2)\r\n",
    "\r\n",
    "    def forward(self, x):\r\n",
    "        x = x.view(-1, 64)            # -> n, 16384\r\n",
    "        x = F.relu(self.fc1(x))               # -> n, 120\r\n",
    "        x = F.relu(self.fc2(x))               # -> n, 120  # -> n, 52142\r\n",
    "        x = self.hybrid(x)\r\n",
    "        return torch.cat((x, 1 - x), -1)"
   ],
   "outputs": [],
   "metadata": {}
  },
  {
   "cell_type": "code",
   "execution_count": 20,
   "source": [
    "model = Net()\r\n",
    "optimizer = optim.Adam(model.parameters(), lr=0.01)\r\n",
    "loss_func = nn.NLLLoss()\r\n",
    "\r\n",
    "epochs = 50\r\n",
    "loss_list = []\r\n",
    "\r\n",
    "\r\n",
    "\r\n",
    "\r\n",
    "model.train()\r\n",
    "for epoch in range(epochs):\r\n",
    "    total_loss = []\r\n",
    "    for batch_idx, (data, target) in enumerate(trainloader):\r\n",
    "        optimizer.zero_grad()\r\n",
    "        # Forward pass\r\n",
    "        output = model(data)\r\n",
    "        # Calculating loss\r\n",
    "        loss = loss_func(output, target.long())\r\n",
    "        # Backward pass\r\n",
    "        loss.backward()\r\n",
    "        # Optimize the weights\r\n",
    "        optimizer.step()\r\n",
    "        \r\n",
    "        total_loss.append(loss.item())\r\n",
    "    loss_list.append(sum(total_loss)/len(total_loss))\r\n",
    "    print('Training [{:.0f}%]\\tLoss: {:.4f}'.format(\r\n",
    "        100. * (epoch + 1) / epochs, loss_list[-1]))"
   ],
   "outputs": [
    {
     "output_type": "stream",
     "name": "stderr",
     "text": [
      "<ipython-input-4-bf16e473ae62>:32: FutureWarning: The input object of type 'Tensor' is an array-like implementing one of the corresponding protocols (`__array__`, `__array_interface__` or `__array_struct__`); but not a sequence (or 0-D). In the future, this object will be coerced as if it was first converted using `np.array(obj)`. To retain the old behaviour, you have to either modify the type 'Tensor', or assign to an empty array created with `np.empty(correct_shape, dtype=object)`.\n",
      "  gradients = np.array([gradients]).T\n"
     ]
    },
    {
     "output_type": "stream",
     "name": "stdout",
     "text": [
      "Training [2%]\tLoss: -0.7664\n",
      "Training [4%]\tLoss: -0.8360\n",
      "Training [6%]\tLoss: -0.8399\n",
      "Training [8%]\tLoss: -0.8440\n",
      "Training [10%]\tLoss: -0.8483\n",
      "Training [12%]\tLoss: -0.8531\n",
      "Training [14%]\tLoss: -0.8502\n",
      "Training [16%]\tLoss: -0.8515\n",
      "Training [18%]\tLoss: -0.8597\n",
      "Training [20%]\tLoss: -0.8510\n",
      "Training [22%]\tLoss: -0.8565\n",
      "Training [24%]\tLoss: -0.8480\n",
      "Training [26%]\tLoss: -0.8482\n",
      "Training [28%]\tLoss: -0.8532\n",
      "Training [30%]\tLoss: -0.8634\n",
      "Training [32%]\tLoss: -0.8551\n",
      "Training [34%]\tLoss: -0.8498\n",
      "Training [36%]\tLoss: -0.8500\n",
      "Training [38%]\tLoss: -0.8590\n",
      "Training [40%]\tLoss: -0.8470\n",
      "Training [42%]\tLoss: -0.8536\n",
      "Training [44%]\tLoss: -0.8547\n",
      "Training [46%]\tLoss: -0.8569\n",
      "Training [48%]\tLoss: -0.8506\n",
      "Training [50%]\tLoss: -0.8582\n",
      "Training [52%]\tLoss: -0.8640\n",
      "Training [54%]\tLoss: -0.8557\n",
      "Training [56%]\tLoss: -0.8547\n",
      "Training [58%]\tLoss: -0.8632\n",
      "Training [60%]\tLoss: -0.8583\n",
      "Training [62%]\tLoss: -0.8581\n",
      "Training [64%]\tLoss: -0.8552\n",
      "Training [66%]\tLoss: -0.8527\n",
      "Training [68%]\tLoss: -0.8515\n",
      "Training [70%]\tLoss: -0.8485\n",
      "Training [72%]\tLoss: -0.8519\n",
      "Training [74%]\tLoss: -0.8534\n",
      "Training [76%]\tLoss: -0.8549\n",
      "Training [78%]\tLoss: -0.8540\n",
      "Training [80%]\tLoss: -0.8585\n",
      "Training [82%]\tLoss: -0.8550\n",
      "Training [84%]\tLoss: -0.8544\n",
      "Training [86%]\tLoss: -0.8510\n",
      "Training [88%]\tLoss: -0.8618\n",
      "Training [90%]\tLoss: -0.8563\n",
      "Training [92%]\tLoss: -0.8549\n",
      "Training [94%]\tLoss: -0.8586\n",
      "Training [96%]\tLoss: -0.8561\n",
      "Training [98%]\tLoss: -0.8607\n",
      "Training [100%]\tLoss: -0.8603\n"
     ]
    }
   ],
   "metadata": {}
  },
  {
   "cell_type": "code",
   "execution_count": 21,
   "source": [
    "plt.plot(loss_list)\r\n",
    "plt.title('Hybrid NN Training Convergence')\r\n",
    "plt.xlabel('Training Iterations')\r\n",
    "plt.ylabel('Neg Log Likelihood Loss')"
   ],
   "outputs": [
    {
     "output_type": "execute_result",
     "data": {
      "text/plain": [
       "Text(0, 0.5, 'Neg Log Likelihood Loss')"
      ]
     },
     "metadata": {},
     "execution_count": 21
    },
    {
     "output_type": "display_data",
     "data": {
      "text/plain": [
       "<Figure size 432x288 with 1 Axes>"
      ],
      "image/png": "[encoded data removed]"
     },
     "metadata": {
      "needs_background": "light"
     }
    }
   ],
   "metadata": {}
  },
  {
   "cell_type": "code",
   "execution_count": 25,
   "source": [
    "model.eval()\r\n",
    "with torch.no_grad():\r\n",
    "    \r\n",
    "    correct = 0\r\n",
    "    for batch_idx, (data, target) in enumerate(trainloader):\r\n",
    "        output = model(data)\r\n",
    "        \r\n",
    "        pred = output.argmax(dim=1, keepdim=True) \r\n",
    "        correct += pred.eq(target.view_as(pred)).sum().item()\r\n",
    "        \r\n",
    "        loss = loss_func(output, target.long())\r\n",
    "        total_loss.append(loss.item())\r\n",
    "        \r\n",
    "    print('Performance on test data:\\n\\tLoss: {:.4f}\\n\\tAccuracy: {:.1f}%'.format(\r\n",
    "        sum(total_loss) / len(total_loss),\r\n",
    "        correct / len(trainloader) * 100)\r\n",
    "        )"
   ],
   "outputs": [
    {
     "output_type": "stream",
     "name": "stdout",
     "text": [
      "Performance on test data:\n",
      "\tLoss: -0.8593\n",
      "\tAccuracy: 86.4%\n"
     ]
    }
   ],
   "metadata": {}
  },
  {
   "cell_type": "code",
   "execution_count": 26,
   "source": [
    "n_samples_show = 6\r\n",
    "count = 0\r\n",
    "fig, axes = plt.subplots(nrows=1, ncols=n_samples_show, figsize=(10, 3))\r\n",
    "\r\n",
    "model.eval()\r\n",
    "\r\n",
    "\r\n",
    "\r\n",
    "with torch.no_grad():\r\n",
    "    for batch_idx, (data, target) in enumerate(trainloader):\r\n",
    "        if count == n_samples_show:\r\n",
    "            break\r\n",
    "        output = model(data)\r\n",
    "        \r\n",
    "        pred = output.argmax(dim=1, keepdim=True) \r\n",
    "\r\n",
    "        axes[count].imshow(data[0].numpy().squeeze(), )\r\n",
    "\r\n",
    "        axes[count].set_xticks([])\r\n",
    "        axes[count].set_yticks([])\r\n",
    "        axes[count].set_title('Predicted {}'.format(pred.item()))\r\n",
    "        \r\n",
    "        count += 1"
   ],
   "outputs": [
    {
     "output_type": "display_data",
     "data": {
      "text/plain": [
       "<Figure size 720x216 with 6 Axes>"
      ],
      "image/png": "[encoded data removed]"
     },
     "metadata": {}
    }
   ],
   "metadata": {}
  }
 ],
 "metadata": {
  "orig_nbformat": 4,
  "language_info": {
   "name": "python",
   "version": "3.8.10",
   "mimetype": "text/x-python",
   "codemirror_mode": {
    "name": "ipython",
    "version": 3
   },
   "pygments_lexer": "ipython3",
   "nbconvert_exporter": "python",
   "file_extension": ".py"
  },
  "kernelspec": {
   "name": "python3",
   "display_name": "Python 3.8.10 64-bit ('qiskit': conda)"
  },
  "interpreter": {
   "hash": "7085d7f3a85dff14807db3b039303f4d3e7814f3ae962158c22b2b6462c5d354"
  }
 },
 "nbformat": 4,
 "nbformat_minor": 2
}